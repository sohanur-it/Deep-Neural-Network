{
 "cells": [
  {
   "cell_type": "code",
   "execution_count": 13,
   "metadata": {},
   "outputs": [
    {
     "name": "stdout",
     "output_type": "stream",
     "text": [
      "/home/sohan/Jupiter NoteBook\n",
      "/home/sohan/Jupiter NoteBook/DataVisualisation/images/kit-harington/4.jpg\n",
      "/home/sohan/Jupiter NoteBook/DataVisualisation/images/kit-harington/1.jpg\n",
      "/home/sohan/Jupiter NoteBook/DataVisualisation/images/kit-harington/2.jpg\n",
      "/home/sohan/Jupiter NoteBook/DataVisualisation/images/kit-harington/3.jpg\n",
      "/home/sohan/Jupiter NoteBook/DataVisualisation/images/kit-harington/5.jpg\n",
      "/home/sohan/Jupiter NoteBook/DataVisualisation/images/kit-harington/6.jpg\n",
      "/home/sohan/Jupiter NoteBook/DataVisualisation/images/peter-dinklage/4.jpg\n",
      "/home/sohan/Jupiter NoteBook/DataVisualisation/images/peter-dinklage/2.jpg\n",
      "/home/sohan/Jupiter NoteBook/DataVisualisation/images/peter-dinklage/3.jpg\n",
      "/home/sohan/Jupiter NoteBook/DataVisualisation/images/peter-dinklage/1.png\n",
      "/home/sohan/Jupiter NoteBook/DataVisualisation/images/peter-dinklage/5.jpg\n",
      "/home/sohan/Jupiter NoteBook/DataVisualisation/images/peter-dinklage/6.jpg\n",
      "/home/sohan/Jupiter NoteBook/DataVisualisation/images/fun/glasses.png\n",
      "/home/sohan/Jupiter NoteBook/DataVisualisation/images/fun/mustache.png\n",
      "/home/sohan/Jupiter NoteBook/DataVisualisation/images/nikolaj-coster-waldau/4.jpg\n",
      "/home/sohan/Jupiter NoteBook/DataVisualisation/images/nikolaj-coster-waldau/1.jpg\n",
      "/home/sohan/Jupiter NoteBook/DataVisualisation/images/nikolaj-coster-waldau/2.jpg\n",
      "/home/sohan/Jupiter NoteBook/DataVisualisation/images/nikolaj-coster-waldau/3.jpg\n",
      "/home/sohan/Jupiter NoteBook/DataVisualisation/images/nikolaj-coster-waldau/5.jpg\n",
      "/home/sohan/Jupiter NoteBook/DataVisualisation/images/nikolaj-coster-waldau/6.jpg\n",
      "/home/sohan/Jupiter NoteBook/DataVisualisation/images/emilia-clarke/4.jpg\n",
      "/home/sohan/Jupiter NoteBook/DataVisualisation/images/emilia-clarke/1.jpg\n",
      "/home/sohan/Jupiter NoteBook/DataVisualisation/images/emilia-clarke/2.jpg\n",
      "/home/sohan/Jupiter NoteBook/DataVisualisation/images/emilia-clarke/3.jpg\n",
      "/home/sohan/Jupiter NoteBook/DataVisualisation/images/emilia-clarke/5.jpg\n",
      "/home/sohan/Jupiter NoteBook/DataVisualisation/images/emilia-clarke/6.jpg\n",
      "/home/sohan/Jupiter NoteBook/DataVisualisation/images/justin/4.png\n",
      "/home/sohan/Jupiter NoteBook/DataVisualisation/images/justin/2.png\n",
      "/home/sohan/Jupiter NoteBook/DataVisualisation/images/justin/7.png\n",
      "/home/sohan/Jupiter NoteBook/DataVisualisation/images/justin/8.png\n",
      "/home/sohan/Jupiter NoteBook/DataVisualisation/images/justin/1.jpg\n",
      "/home/sohan/Jupiter NoteBook/DataVisualisation/images/justin/3.png\n",
      "/home/sohan/Jupiter NoteBook/DataVisualisation/images/justin/5.png\n",
      "/home/sohan/Jupiter NoteBook/DataVisualisation/images/justin/6.png\n",
      "/home/sohan/Jupiter NoteBook/DataVisualisation/images/logo/cfe-coffee.jpg\n",
      "/home/sohan/Jupiter NoteBook/DataVisualisation/images/logo/cfe-coffee.png\n"
     ]
    }
   ],
   "source": [
    "import os\n",
    "\n",
    "BASE_DIR = os.path.dirname(os.path.abspath(''))\n",
    "\n",
    "print(BASE_DIR)\n",
    "\n",
    "image_dir = os.path.join(BASE_DIR, \"DataVisualisation/images\")\n",
    "\n",
    "for root, dirs, files in os.walk(image_dir):\n",
    "    for file in files:\n",
    "        if file.endswith(\"png\") or file.endswith(\"jpg\"):\n",
    "            path = os.path.join(root, file)\n",
    "            #print(path)\n"
   ]
  }
 ],
 "metadata": {
  "kernelspec": {
   "display_name": "Python 3",
   "language": "python",
   "name": "python3"
  },
  "language_info": {
   "codemirror_mode": {
    "name": "ipython",
    "version": 3
   },
   "file_extension": ".py",
   "mimetype": "text/x-python",
   "name": "python",
   "nbconvert_exporter": "python",
   "pygments_lexer": "ipython3",
   "version": "3.7.3"
  }
 },
 "nbformat": 4,
 "nbformat_minor": 2
}
