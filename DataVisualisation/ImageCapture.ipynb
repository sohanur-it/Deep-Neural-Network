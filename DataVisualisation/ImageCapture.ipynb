{
 "cells": [
  {
   "cell_type": "code",
   "execution_count": 8,
   "metadata": {},
   "outputs": [],
   "source": [
    "import numpy as np\n",
    "import cv2,time\n",
    "cap = cv2.VideoCapture(0)\n",
    "check,frame = cap.read()\n",
    "time.sleep(3)\n",
    "\n",
    "# gray = cv2.cvtColor(frame, cv2.COLOR_BGR2GRAY)\n",
    "cv2.imshow(\"capture\",frame)\n",
    "\n",
    "cv2.waitKey(0)\n",
    "cap.release()\n",
    "cv2.destroyAllWindows()"
   ]
  }
 ],
 "metadata": {
  "kernelspec": {
   "display_name": "Python 3",
   "language": "python",
   "name": "python3"
  },
  "language_info": {
   "codemirror_mode": {
    "name": "ipython",
    "version": 3
   },
   "file_extension": ".py",
   "mimetype": "text/x-python",
   "name": "python",
   "nbconvert_exporter": "python",
   "pygments_lexer": "ipython3",
   "version": "3.7.3"
  }
 },
 "nbformat": 4,
 "nbformat_minor": 2
}
