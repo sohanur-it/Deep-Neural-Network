{
 "cells": [
  {
   "cell_type": "code",
   "execution_count": 3,
   "metadata": {},
   "outputs": [
    {
     "name": "stdout",
     "output_type": "stream",
     "text": [
      "(750, 1000, 3)\n",
      "(600, 600, 3)\n"
     ]
    },
    {
     "data": {
      "text/plain": [
       "(1500, 2000, 3)"
      ]
     },
     "execution_count": 3,
     "metadata": {},
     "output_type": "execute_result"
    }
   ],
   "source": [
    "import cv2\n",
    "img = cv2.imread(\"pengunins.jpg\",1)\n",
    "#print(img)\n",
    "print(img.shape)\n",
    "\n",
    "resized = cv2.resize(img,(600,600))\n",
    "print(resized.shape)\n",
    "\n",
    "resize_img = cv2.resize(img, (int(img.shape[1]*2),int(img.shape[0]*2)))\n",
    "resize_img.shape"
   ]
  },
  {
   "cell_type": "code",
   "execution_count": 4,
   "metadata": {},
   "outputs": [],
   "source": [
    "face_cascade = cv2.CascadeClassifier(\"haarcascade_frontalface_default.xml\")\n",
    "img = cv2.imread(\"object.jpg\")\n",
    "resized = cv2.resize(img,(1000,1000))\n",
    "gray_img = cv2.cvtColor(resized,cv2.COLOR_BGR2GRAY)\n",
    "faces = face_cascade.detectMultiScale(gray_img,scaleFactor =1.05,minNeighbors=5)\n",
    "#print(faces)\n",
    "for x,y,w,h in faces:\n",
    "    img=cv2.rectangle(resized,(x,y),(x+w,y+h),(0,255,0),3)\n",
    "cv2.imshow(\"Gray\",img)\n",
    "cv2.waitKey(10000)\n",
    "cv2.destroyAllWindows()"
   ]
  },
  {
   "cell_type": "code",
   "execution_count": 3,
   "metadata": {},
   "outputs": [],
   "source": [
    "# cv2.imshow(\"legend\",resize_img)\n",
    "# cv2.waitKey(0)\n",
    "# cv2.destroyAllWindows()"
   ]
  }
 ],
 "metadata": {
  "kernelspec": {
   "display_name": "Python 3",
   "language": "python",
   "name": "python3"
  },
  "language_info": {
   "codemirror_mode": {
    "name": "ipython",
    "version": 3
   },
   "file_extension": ".py",
   "mimetype": "text/x-python",
   "name": "python",
   "nbconvert_exporter": "python",
   "pygments_lexer": "ipython3",
   "version": "3.7.3"
  }
 },
 "nbformat": 4,
 "nbformat_minor": 2
}
