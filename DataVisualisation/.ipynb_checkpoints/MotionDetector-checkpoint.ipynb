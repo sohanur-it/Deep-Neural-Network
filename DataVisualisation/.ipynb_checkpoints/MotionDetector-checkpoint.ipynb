{
 "cells": [
  {
   "cell_type": "code",
   "execution_count": 10,
   "metadata": {},
   "outputs": [
    {
     "name": "stdout",
     "output_type": "stream",
     "text": [
      "[1, 1]\n",
      "[datetime.datetime(2019, 8, 1, 16, 46, 15, 553327)]\n"
     ]
    }
   ],
   "source": [
    "import cv2,time,pandas\n",
    "from datetime import datetime\n",
    "\n",
    "first_frame = None\n",
    "status_list = [None,None]\n",
    " \n",
    "times = []\n",
    "\n",
    "df = pandas.DataFrame(columns=[\"Start\",\"End\"])\n",
    "\n",
    "video = cv2.VideoCapture(0)\n",
    "\n",
    "while(True):\n",
    "    check,frame = video.read()\n",
    "    status = 0 \n",
    "    gray = cv2.cvtColor(frame,cv2.COLOR_BGR2GRAY)\n",
    "    gray = cv2.GaussianBlur(gray,(21,21),0)\n",
    "    \n",
    "    if first_frame is None:\n",
    "        first_frame = gray\n",
    "        continue\n",
    "    delta_frame = cv2.absdiff(first_frame,gray)\n",
    "    thresh_delta = cv2.threshold(delta_frame, 50, 255, cv2.THRESH_BINARY)[1]\n",
    "    thresh_delta = cv2.dilate(thresh_delta, None, iterations=0)\n",
    "    (cnts,_) = cv2.findContours(thresh_delta.copy(),cv2.RETR_EXTERNAL,cv2.CHAIN_APPROX_SIMPLE)\n",
    "    \n",
    "    for contour in cnts:\n",
    "        if cv2.contourArea(contour) < 2000:\n",
    "            continue\n",
    "        status = 1\n",
    "        x,y,w,h = cv2.boundingRect(contour)\n",
    "        cv2.rectangle(frame,(x,y),(x+w,y+h),(0,255,0),3)\n",
    "    status_list.append(status)\n",
    "    status_list = status_list[-2:]\n",
    "    \n",
    "    if status_list[-1]==1 and status_list[-2]==0:\n",
    "        times.append(datetime.now())\n",
    "    if status_list[-1]==0 and status_list[-2]==1:\n",
    "        times.append(datetime.now())\n",
    "        \n",
    "    cv2.imshow('frame',frame)\n",
    "    cv2.imshow('capturing',gray)\n",
    "    cv2.imshow('delta',delta_frame)\n",
    "    cv2.imshow('thresh',thresh_delta)\n",
    "    \n",
    "    key = cv2.waitKey(1)\n",
    "    \n",
    "    if key == ord('q'):\n",
    "        break\n",
    "print(status_list)\n",
    "print(times)\n",
    "\n",
    "# for i in range(0,len(times),2):\n",
    "#     df = df.append({\"Start\":times[i],\"End\":times[i+1]},ignore_index=True)\n",
    "# df.to_csv=(\"Times.csv\")\n",
    "video.release()\n",
    "cv2.destroyAllWindows()"
   ]
  },
  {
   "cell_type": "code",
   "execution_count": null,
   "metadata": {},
   "outputs": [],
   "source": []
  },
  {
   "cell_type": "code",
   "execution_count": null,
   "metadata": {},
   "outputs": [],
   "source": []
  }
 ],
 "metadata": {
  "kernelspec": {
   "display_name": "Python 3",
   "language": "python",
   "name": "python3"
  },
  "language_info": {
   "codemirror_mode": {
    "name": "ipython",
    "version": 3
   },
   "file_extension": ".py",
   "mimetype": "text/x-python",
   "name": "python",
   "nbconvert_exporter": "python",
   "pygments_lexer": "ipython3",
   "version": "3.7.3"
  }
 },
 "nbformat": 4,
 "nbformat_minor": 2
}
