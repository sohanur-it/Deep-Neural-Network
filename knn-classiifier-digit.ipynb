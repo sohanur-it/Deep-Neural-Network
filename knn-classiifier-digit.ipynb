{
 "cells": [
  {
   "cell_type": "code",
   "execution_count": 19,
   "metadata": {},
   "outputs": [
    {
     "name": "stdout",
     "output_type": "stream",
     "text": [
      "(1797, 64)\n",
      "[[ 0.  0.  5. ...  0.  0.  0.]\n",
      " [ 0.  0.  0. ... 10.  0.  0.]\n",
      " [ 0.  0.  0. ... 16.  9.  0.]\n",
      " ...\n",
      " [ 0.  0.  1. ...  6.  0.  0.]\n",
      " [ 0.  0.  2. ... 12.  0.  0.]\n",
      " [ 0.  0. 10. ... 12.  1.  0.]]\n",
      "[0 1 2 ... 8 9 8]\n",
      "(1797, 64)\n",
      "(1797,)\n",
      "accuracy found is\n",
      "0.9888888888888889\n"
     ]
    }
   ],
   "source": [
    "\"\"\"\n",
    "Hi all this is saitej\n",
    "In this we are gonna classify handwritten digits using K nearest neighbor classifier\n",
    "Lets go\n",
    "\"\"\"\n",
    "\n",
    "#import dataset in to program\n",
    "\n",
    "from sklearn import datasets\n",
    "digits=datasets.load_digits()\n",
    "\n",
    "\n",
    "\n",
    "#we have 1797 records\n",
    "\n",
    "#each entry is 8*8 matrix, we shall reshape this matrix to 1*64 so as to make our computation more human readable\n",
    "\n",
    "digits.images=digits.images.reshape(digits.images.shape[0],digits.images.shape[1]*digits.images.shape[2])\n",
    "\n",
    "#now lets print new matrix dimensions\n",
    "print(digits.images.shape)\n",
    "\n",
    "\n",
    "\n",
    "#lets try to print features and labels we have in the dataset\n",
    "print(digits.images)\n",
    "print(digits.target)\n",
    "\n",
    "#lets also see the dimension of data we have\n",
    "\n",
    "print(digits.images.shape)\n",
    "print(digits.target.shape)\n",
    "\n",
    "\n",
    "\n",
    "#now we have data, we need to split this whole chunk of data in to training and testing data set\n",
    "\n",
    "\n",
    "from sklearn.model_selection import train_test_split\n",
    "x_train,x_test,y_train,y_test=train_test_split(digits.images,digits.target,test_size=0.25)\n",
    "\n",
    "#We have split whole data in to 75% of training data and 25% of testing data\n",
    "\n",
    "#lets import classifier and train it \n",
    "\n",
    "from sklearn.neighbors import KNeighborsClassifier\n",
    "clf=KNeighborsClassifier(n_neighbors=3).fit(x_train,y_train)\n",
    "\n",
    "#we have given our classifier training set, using fit function.\n",
    "#point to be remembered\n",
    "#KNN is lazy learner, it takes whole data while classifying each test entry\n",
    "#In other words, it doesnt learn anything at all. it justs returns nearest neighbors and give us mode of all nearest neighbors\n",
    "\n",
    "#lets try to predict accuracy over test data\n",
    "\n",
    "from sklearn.metrics import accuracy_score\n",
    "print(\"accuracy found is\")\n",
    "print(accuracy_score(y_test,clf.predict(x_test)))\n",
    "#our classifier is 98% accurate\n"
   ]
  }
 ],
 "metadata": {
  "kernelspec": {
   "display_name": "Python 3",
   "language": "python",
   "name": "python3"
  },
  "language_info": {
   "codemirror_mode": {
    "name": "ipython",
    "version": 3
   },
   "file_extension": ".py",
   "mimetype": "text/x-python",
   "name": "python",
   "nbconvert_exporter": "python",
   "pygments_lexer": "ipython3",
   "version": "3.7.3"
  }
 },
 "nbformat": 4,
 "nbformat_minor": 2
}
